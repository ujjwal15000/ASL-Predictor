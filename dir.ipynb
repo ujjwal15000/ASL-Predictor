{
 "cells": [
  {
   "cell_type": "code",
   "execution_count": 1,
   "metadata": {},
   "outputs": [],
   "source": [
    "import string\n",
    "import os\n",
    "l = []\n",
    "for i in range(10):\n",
    "    l.append(str(i))\n",
    "\n",
    "for c in string.ascii_lowercase:\n",
    "    l.append(str(c))\n",
    "l.append(\"del\")\n",
    "l.append(\"nothing\")\n",
    "l.append(\"space\")\n",
    "    \n",
    "for c in l:\n",
    "    path = \"./data/\" + c\n",
    "    os.makedirs(path)"
   ]
  }
 ],
 "metadata": {
  "kernelspec": {
   "display_name": "Python 3",
   "language": "python",
   "name": "python3"
  },
  "language_info": {
   "codemirror_mode": {
    "name": "ipython",
    "version": 3
   },
   "file_extension": ".py",
   "mimetype": "text/x-python",
   "name": "python",
   "nbconvert_exporter": "python",
   "pygments_lexer": "ipython3",
   "version": "3.8.5"
  }
 },
 "nbformat": 4,
 "nbformat_minor": 4
}
